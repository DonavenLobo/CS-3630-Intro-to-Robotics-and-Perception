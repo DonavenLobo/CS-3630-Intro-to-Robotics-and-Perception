{
  "cells": [
    {
      "cell_type": "markdown",
      "id": "a5a49495",
      "metadata": {
        "id": "a5a49495"
      },
      "source": [
        "# CS3630 Project 2: Trash Sorting Robot (Fall 2023)\n",
        "## Brief\n",
        "- Due: Thu, Sep 21 at 11:59pm on Gradescope\n",
        "- Hand-in: through Gradescope\n",
        "- This project has **two** parts:\n",
        "  - Part 1: Coding Assignment (Deliverable: `project2.py` on Gradescope)\n",
        "  - Part 2: Report (Deliverable: Project 2 - Report on Gradescope)\n",
        "\n",
        "\n",
        "## Getting started with Part 1\n",
        "The `project2.ipynb` notebook to be completed is available on Canvas->Files->Projects.\n",
        "In order to use a file as your own:\n",
        "1. Download the file to your computer\n",
        "2. Upload the notebook to Google Colab (File > Upload Notebook)\n",
        "\n",
        "## Submission Instructions\n",
        "In order to submit a file, once you complete the project:\n",
        "1. **Comment out any !pip install statements**\n",
        "2. Click the “File” button on the toolbar at the top\n",
        "3. Click “Download”\n",
        "4. And then click “Download .py” (Downloads the python version of the notebook)\n",
        "5. You will now have the .py file on your local machine.\n",
        "6. Make sure it is named `project2.py`\n",
        "7. Submit the `project2.py` file to gradescope (Make sure the file name matches exactly, else you will get an error on Gradescope)\n",
        "\n",
        "\n",
        "## Introduction\n",
        "\n",
        "In this project, we will be building a (simulated) trash sorting robot as illustrated in the [textbook](http://www.roboticsbook.org/intro.html) for this course. In this scenario, the robot tries to sort trash of some pre-determined categories into corresponding bins. Please refer to [Chapter 2](http://www.roboticsbook.org/S20_sorter_intro.html) of the book for a more detailed description of the scenario. **This project is basically based on Chapter 2 of the textbook. Please use the same values in the textbook for each TODO.** This project also uses the [GTSAM](https://gtsam.org/) library. More details about this library and any relevant information can be found in [Chapter 2](http://www.roboticsbook.org/S20_sorter_intro.html) of the textbook."
      ]
    },
    {
      "cell_type": "markdown",
      "id": "9ea886ad",
      "metadata": {
        "id": "9ea886ad"
      },
      "source": [
        "First, install [GTSAM](https://gtsam.org/) and import some other useful libraries. Refer to the textbook for further details on the various GTSAM functionalities."
      ]
    },
    {
      "cell_type": "code",
      "execution_count": null,
      "id": "86ff6bc7",
      "metadata": {
        "id": "86ff6bc7"
      },
      "outputs": [],
      "source": [
        "# To use on colab, run the following line\n",
        "### Comment out following line before submitting to Gradescope!!!\n",
        "!pip install -U -q gtbook"
      ]
    },
    {
      "cell_type": "code",
      "execution_count": null,
      "id": "eea7b6e2",
      "metadata": {
        "id": "eea7b6e2"
      },
      "outputs": [],
      "source": [
        "#export\n",
        "import gtsam\n",
        "import numpy as np\n",
        "import math\n",
        "from enum import Enum\n",
        "from gtbook.discrete import Variables"
      ]
    },
    {
      "cell_type": "code",
      "execution_count": null,
      "id": "728e9d26",
      "metadata": {
        "id": "728e9d26"
      },
      "outputs": [],
      "source": [
        "%load_ext autoreload\n",
        "%autoreload 2"
      ]
    },
    {
      "cell_type": "code",
      "execution_count": null,
      "id": "19d20b7c",
      "metadata": {
        "id": "19d20b7c"
      },
      "outputs": [],
      "source": [
        "# Download the project2_test file to check your code on colab\n",
        "### Comment out following line before submitting to Gradescope!!!\n",
        "! pip install --upgrade --no-cache-dir gdown\n",
        "get_ipython().system(' gdown --id 1NH148rXuzT-RI4Ee6NdanMgTXXjix6Vw') #Do NOT comment out"
      ]
    },
    {
      "cell_type": "code",
      "execution_count": null,
      "id": "35366c7c",
      "metadata": {
        "id": "35366c7c"
      },
      "outputs": [],
      "source": [
        "from project2_test import TestProject2\n",
        "from project2_test import verify"
      ]
    },
    {
      "cell_type": "code",
      "execution_count": null,
      "id": "18b53f84",
      "metadata": {
        "id": "18b53f84"
      },
      "outputs": [],
      "source": [
        "np.random.seed(3630)\n",
        "unit_test = TestProject2()"
      ]
    },
    {
      "cell_type": "markdown",
      "id": "ea46e73c",
      "metadata": {
        "id": "ea46e73c"
      },
      "source": [
        "**IMPORTANT NOTE: Please use the variables provided for the results of each of the TODOs.**\n",
        "## Modeling the World State ([Book Section 2.1](http://www.roboticsbook.org/S21_sorter_state.html))\n",
        "- Functions to complete: **TODO 1**, **TODO 2**, and **TODO 3**\n",
        "- Objective: Representing the prior probabilities of the trash categories and simulate it by sampling. Please use the prior probabilities provided in the textbook"
      ]
    },
    {
      "cell_type": "code",
      "execution_count": null,
      "id": "2fa9f397",
      "metadata": {
        "id": "2fa9f397"
      },
      "outputs": [],
      "source": [
        "#export\n",
        "### ENUMS ###\n",
        "class Trash(Enum):\n",
        "    CARDBOARD = 0\n",
        "    PAPER = 1\n",
        "    CAN = 2\n",
        "    SCRAP_METAL = 3\n",
        "    BOTTLE = 4\n",
        "\n",
        "\n",
        "class Bin(Enum):\n",
        "    GLASS_BIN = 0\n",
        "    METAL_BIN = 1\n",
        "    PAPER_BIN = 2\n",
        "    NOP = 3\n",
        "\n",
        "\n",
        "class Detection(Enum):\n",
        "    BOTTLE = 0\n",
        "    CARDBOARD = 1\n",
        "    PAPER = 2\n",
        "\n",
        "\n",
        "### CONSTANTS ###\n",
        "# All possible trash categories\n",
        "CATEGORIES = ['cardboard', 'paper', 'can', 'scrap_metal', 'bottle']\n",
        "\n",
        "# All possible actions/bins (nop means no action)\n",
        "ACTIONS = ['glass_bin', 'metal_bin', 'paper_bin', 'nop']\n",
        "\n",
        "\n",
        "# Useful Global Variables\n",
        "variables = Variables()\n",
        "categories = CATEGORIES\n",
        "Category = variables.discrete('Category', categories)\n",
        "Conductivity = variables.binary('Conductivity')\n",
        "Detection = variables.discrete('Detection', ['bottle', 'cardboard', 'paper'])"
      ]
    },
    {
      "cell_type": "markdown",
      "id": "1f8eb04d",
      "metadata": {
        "id": "1f8eb04d"
      },
      "source": [
        "**TODO 1 & TODO 2**:"
      ]
    },
    {
      "cell_type": "code",
      "execution_count": null,
      "id": "9c3a3898",
      "metadata": {
        "id": "9c3a3898"
      },
      "outputs": [],
      "source": [
        "#export\n",
        "# TODO 1:\n",
        "# Prior probabilities\n",
        "def get_category_prior():\n",
        "    '''\n",
        "    Returns the prior probabilities of the trash categories.\n",
        "\n",
        "        Parameters:\n",
        "            None\n",
        "\n",
        "        Returns:\n",
        "            category_prior (gtsam.DiscreteDistribution): a DiscreteDistribution\n",
        "                that summarizes the prior probabilities of all trash categories\n",
        "    '''\n",
        "    category_prior = None\n",
        "    ###############################################################################\n",
        "    #                             START OF YOUR CODE                              #\n",
        "    ###############################################################################\n",
        "\n",
        "    ###############################################################################\n",
        "    #                              END OF YOUR CODE                               #\n",
        "    ###############################################################################\n",
        "    return category_prior\n",
        "\n",
        "\n",
        "# TODO 2:\n",
        "# Prior probabilities PMF\n",
        "def get_category_prior_pmf():\n",
        "    '''\n",
        "    Returns the probability mass function (PMF) of the prior probabilities\n",
        "    of the trash categories.\n",
        "\n",
        "        Parameters:\n",
        "            None\n",
        "\n",
        "        Returns:\n",
        "            category_prior_pmf (list): a list of the PMF\n",
        "    '''\n",
        "    category_prior_pmf = None\n",
        "    ###############################################################################\n",
        "    #                             START OF YOUR CODE                              #\n",
        "    ###############################################################################\n",
        "\n",
        "    ###############################################################################\n",
        "    #                              END OF YOUR CODE                               #\n",
        "    ###############################################################################\n",
        "    return category_prior_pmf"
      ]
    },
    {
      "cell_type": "code",
      "execution_count": null,
      "id": "426c85a3",
      "metadata": {
        "id": "426c85a3"
      },
      "outputs": [],
      "source": [
        "print(\"Testing your prior probabilities of the trash categories: \")\n",
        "print(verify(unit_test.test_get_category_prior_pmf, get_category_prior_pmf))"
      ]
    },
    {
      "cell_type": "markdown",
      "id": "ef32d527",
      "metadata": {
        "id": "ef32d527"
      },
      "source": [
        "**TODO 3**:"
      ]
    },
    {
      "cell_type": "code",
      "execution_count": null,
      "id": "3a0a105d",
      "metadata": {
        "id": "3a0a105d"
      },
      "outputs": [],
      "source": [
        "#export\n",
        "# TODO 3:\n",
        "def sample_category():\n",
        "    '''\n",
        "    Returns a sample of trash category by sampling with the prior probabilities\n",
        "    of the trash categories\n",
        "\n",
        "        Parameters:\n",
        "            None\n",
        "\n",
        "        Returns:\n",
        "            sample (int): an int indicating the sampled trash category, the\n",
        "                int-category mapping is at the beginning of this notebook\n",
        "    '''\n",
        "    sample = None\n",
        "    ###############################################################################\n",
        "    #                             START OF YOUR CODE                              #\n",
        "    ###############################################################################\n",
        "\n",
        "    ###############################################################################\n",
        "    #                              END OF YOUR CODE                               #\n",
        "    ###############################################################################\n",
        "    return sample"
      ]
    },
    {
      "cell_type": "code",
      "execution_count": null,
      "id": "e37483d4",
      "metadata": {
        "id": "e37483d4"
      },
      "outputs": [],
      "source": [
        "print(\"Testing your sample of trash category: \", verify(unit_test.test_sample_category, sample_category))"
      ]
    },
    {
      "cell_type": "markdown",
      "id": "ee8eec7f",
      "metadata": {
        "id": "ee8eec7f"
      },
      "source": [
        "## Actions for Sorting Trash ([Book Section 2.2](http://www.roboticsbook.org/S22_sorter_actions.html))\n",
        "- Functions to complete: **TODO 4**\n",
        "- Objective: Representing actions and their corresponding costs, please use the data provided in the textbook"
      ]
    },
    {
      "cell_type": "code",
      "execution_count": null,
      "id": "4037bd77",
      "metadata": {
        "id": "4037bd77"
      },
      "outputs": [],
      "source": [
        "#export\n",
        "# TODO 4:\n",
        "'''\n",
        "    Fill out the cost table with corresponding costs, where the rows correspond\n",
        "    to ACTIONS and the columns correspond to CATEGORIES.\n",
        "'''\n",
        "COST_TABLE = None\n",
        "###############################################################################\n",
        "#                             START OF YOUR CODE                              #\n",
        "###############################################################################\n",
        "\n",
        "###############################################################################\n",
        "#                              END OF YOUR CODE                               #\n",
        "###############################################################################"
      ]
    },
    {
      "cell_type": "markdown",
      "id": "ed551cf3",
      "metadata": {
        "id": "ed551cf3"
      },
      "source": [
        "## Sensors for Sorting Trash ([Book Section 2.3](http://www.roboticsbook.org/S23_sorter_sensing.html))\n",
        "- Functions to complete: **TODO 5-7** , **TODO 8-10**\n",
        "- Objective: Representing conditional probabilities of sensors and simulate them by sampling, please use the data provided in the textbook"
      ]
    },
    {
      "cell_type": "markdown",
      "id": "b9f500d1",
      "metadata": {
        "id": "b9f500d1"
      },
      "source": [
        "**TODO 5-8**:"
      ]
    },
    {
      "cell_type": "code",
      "execution_count": null,
      "id": "de6b759c",
      "metadata": {
        "id": "de6b759c"
      },
      "outputs": [],
      "source": [
        "#export\n",
        "# TODO 5:\n",
        "# 1. Conductivity - binary sensor\n",
        "def get_pCT():\n",
        "    '''\n",
        "    Returns P(Conductivity | Trash Category)\n",
        "\n",
        "        Parameters:\n",
        "            None\n",
        "\n",
        "        Returns:\n",
        "            pCT (gtsam.DiscreteConditional): a DiscreteConditional that\n",
        "                indicates the conditinal probability of conductivity given\n",
        "                the trash category\n",
        "    '''\n",
        "    pCT = None\n",
        "    ###############################################################################\n",
        "    #                             START OF YOUR CODE                              #\n",
        "    ###############################################################################\n",
        "\n",
        "    ###############################################################################\n",
        "    #                              END OF YOUR CODE                               #\n",
        "    ###############################################################################\n",
        "    return pCT\n",
        "\n",
        "# TODO 6:\n",
        "# 2. Detection - multi-valued sensor\n",
        "def get_pDT():\n",
        "    '''\n",
        "    Returns P(Detection | Trash Category)\n",
        "\n",
        "        Parameters:\n",
        "            None\n",
        "\n",
        "        Returns:\n",
        "            pDT (gtsam.DiscreteConditional): a DiscreteConditional that\n",
        "                indicates the conditinal probability of camera detection\n",
        "                given the trash category\n",
        "    '''\n",
        "    pDT = None\n",
        "    ###############################################################################\n",
        "    #                             START OF YOUR CODE                              #\n",
        "    ###############################################################################\n",
        "\n",
        "    ###############################################################################\n",
        "    #                              END OF YOUR CODE                               #\n",
        "    ###############################################################################\n",
        "    return pDT\n",
        "\n",
        "# TODO 7:\n",
        "# 3. Weight - continuous-valued sensor\n",
        "def get_pWT():\n",
        "    '''\n",
        "    Returns P(Weight | Trash Category)\n",
        "\n",
        "        Parameters:\n",
        "            None\n",
        "\n",
        "        Returns:\n",
        "            pWT (np.array): a numpy array of lists that consists of the means\n",
        "                and standard deviations that define the weight distribution of each\n",
        "                trash category\n",
        "\n",
        "    '''\n",
        "    pWT = None\n",
        "    ###############################################################################\n",
        "    #                             START OF YOUR CODE                              #\n",
        "    ###############################################################################\n",
        "\n",
        "    ###############################################################################\n",
        "    #                              END OF YOUR CODE                               #\n",
        "    ###############################################################################\n",
        "    return pWT\n",
        "\n",
        "# TODO 8:\n",
        "def sample_conductivity(category=None):\n",
        "    '''\n",
        "    Returns a sample of conductivity using the conditional probability\n",
        "    given the trash category.\n",
        "\n",
        "        Parameters:\n",
        "            category (int): an int indicating the trash category\n",
        "\n",
        "        Returns:\n",
        "            conductivity (int): an int indicating the conductivity, with\n",
        "                0 being nonconductive and 1 being conductive\n",
        "    '''\n",
        "    conductivity = None\n",
        "    ###############################################################################\n",
        "    #                             START OF YOUR CODE                              #\n",
        "    ###############################################################################\n",
        "\n",
        "    ###############################################################################\n",
        "    #                              END OF YOUR CODE                               #\n",
        "    ###############################################################################\n",
        "    return conductivity"
      ]
    },
    {
      "cell_type": "code",
      "execution_count": null,
      "id": "a8d7d639",
      "metadata": {
        "id": "a8d7d639"
      },
      "outputs": [],
      "source": [
        "print(\"Testing your sample conductivity: \", verify(unit_test.test_sample_conductivity, sample_conductivity))"
      ]
    },
    {
      "cell_type": "markdown",
      "id": "b8402d67",
      "metadata": {
        "id": "b8402d67"
      },
      "source": [
        "**TODO 9**:"
      ]
    },
    {
      "cell_type": "code",
      "execution_count": null,
      "id": "39ec41ea",
      "metadata": {
        "id": "39ec41ea"
      },
      "outputs": [],
      "source": [
        "#export\n",
        "# TODO 9:\n",
        "def sample_detection(category=None):\n",
        "    '''\n",
        "    Returns a sample of detection using the conditional probability given\n",
        "    the trash category.\n",
        "\n",
        "        Parameters:\n",
        "            category (int): an int indicating the trash category\n",
        "\n",
        "        Returns:\n",
        "            detection (int): an int indicating the sampled detection, the\n",
        "                int-detection mapping is at the beginning of this notebook\n",
        "    '''\n",
        "    detection = None\n",
        "    ###############################################################################\n",
        "    #                             START OF YOUR CODE                              #\n",
        "    ###############################################################################\n",
        "\n",
        "    ###############################################################################\n",
        "    #                              END OF YOUR CODE                               #\n",
        "    ###############################################################################\n",
        "    return detection"
      ]
    },
    {
      "cell_type": "code",
      "execution_count": null,
      "id": "878bc375",
      "metadata": {
        "id": "878bc375"
      },
      "outputs": [],
      "source": [
        "print(\"Testing your sample detection: \", verify(unit_test.test_sample_detection, sample_detection))"
      ]
    },
    {
      "cell_type": "markdown",
      "id": "38d31413",
      "metadata": {
        "id": "38d31413"
      },
      "source": [
        "**TODO 10**:"
      ]
    },
    {
      "cell_type": "code",
      "execution_count": null,
      "id": "a029bce9",
      "metadata": {
        "id": "a029bce9"
      },
      "outputs": [],
      "source": [
        "#export\n",
        "# TODO 10:\n",
        "def sample_weight(category=None):\n",
        "    '''\n",
        "    Returns a sample of weight using the conditional probability given\n",
        "    the trash category.\n",
        "\n",
        "        Parameters:\n",
        "            category (int): an int indicating the trash category\n",
        "\n",
        "        Returns:\n",
        "            weight (double): a double indicating the sampled weight\n",
        "    '''\n",
        "    weight = None\n",
        "    ###############################################################################\n",
        "    #                             START OF YOUR CODE                              #\n",
        "    ###############################################################################\n",
        "\n",
        "    ###############################################################################\n",
        "    #                              END OF YOUR CODE                               #\n",
        "    ###############################################################################\n",
        "    return weight"
      ]
    },
    {
      "cell_type": "code",
      "execution_count": null,
      "id": "f917a829",
      "metadata": {
        "id": "f917a829"
      },
      "outputs": [],
      "source": [
        "print(\"Testing your sample weight: \", verify(unit_test.test_sample_weight, sample_weight))"
      ]
    },
    {
      "cell_type": "markdown",
      "id": "b8d40c7f",
      "metadata": {
        "id": "b8d40c7f"
      },
      "source": [
        "## Perception ([Book Section 2.4](http://www.roboticsbook.org/S24_sorter_perception.html))\n",
        "- Functions to complete: **TODO 11-15**\n",
        "- Objective: Calculating likelihoods using different methods given the observations from the world, please use the data provided in the textbook"
      ]
    },
    {
      "cell_type": "markdown",
      "id": "dfea4b6e",
      "metadata": {
        "id": "dfea4b6e"
      },
      "source": [
        "**TODO 11**:"
      ]
    },
    {
      "cell_type": "code",
      "execution_count": null,
      "id": "dd45963e",
      "metadata": {
        "id": "dd45963e"
      },
      "outputs": [],
      "source": [
        "#export\n",
        "# TODO 11:\n",
        "def likelihood_no_sensors():\n",
        "    '''\n",
        "    Returns the likelihoods of all trash categories using only priors,\n",
        "    aka no sensors.\n",
        "\n",
        "        Parameters:\n",
        "            None\n",
        "\n",
        "        Returns:\n",
        "            likelihoods (list): a list of likelihoods of each trash category\n",
        "    '''\n",
        "    likelihoods = None\n",
        "    ###############################################################################\n",
        "    #                             START OF YOUR CODE                              #\n",
        "    ###############################################################################\n",
        "\n",
        "    ###############################################################################\n",
        "    #                              END OF YOUR CODE                               #\n",
        "    ###############################################################################\n",
        "    return likelihoods"
      ]
    },
    {
      "cell_type": "code",
      "execution_count": null,
      "id": "f6ec8880",
      "metadata": {
        "id": "f6ec8880"
      },
      "outputs": [],
      "source": [
        "print(\"Testing your likelihoods with no sensors: \")\n",
        "print(verify(unit_test.test_likelihood_no_sensor, likelihood_no_sensors))"
      ]
    },
    {
      "cell_type": "markdown",
      "id": "0127b711",
      "metadata": {
        "id": "0127b711"
      },
      "source": [
        "Helper function you can use in the following TODOs"
      ]
    },
    {
      "cell_type": "code",
      "execution_count": null,
      "id": "980dd039",
      "metadata": {
        "id": "980dd039"
      },
      "outputs": [],
      "source": [
        "#export\n",
        "### HELPER FUNCTIONS ###\n",
        "def Gaussian(x, mu=0.0, sigma=1.0):\n",
        "    return np.exp(-0.5 * (x - mu) ** 2 / sigma ** 2) / np.sqrt(2 * np.pi * sigma ** 2)"
      ]
    },
    {
      "cell_type": "markdown",
      "id": "8ab90b31",
      "metadata": {
        "id": "8ab90b31"
      },
      "source": [
        "**TODO 12**:"
      ]
    },
    {
      "cell_type": "code",
      "execution_count": null,
      "id": "b1a3702f",
      "metadata": {
        "id": "b1a3702f"
      },
      "outputs": [],
      "source": [
        "#export\n",
        "# TODO 12:\n",
        "def likelihood_given_weight(weight):\n",
        "    '''\n",
        "    Returns the likelihoods of all trash categories using only the weight\n",
        "    sensor (no priors)\n",
        "\n",
        "        Parameters:\n",
        "            weight (double): a double indicating the weight of trash\n",
        "\n",
        "        Returns:\n",
        "            likelihoods (list): a list of likelihoods of each trash category\n",
        "    '''\n",
        "    likelihoods = None\n",
        "    ###############################################################################\n",
        "    #                             START OF YOUR CODE                              #\n",
        "    ###############################################################################\n",
        "\n",
        "    ###############################################################################\n",
        "    #                              END OF YOUR CODE                               #\n",
        "    ###############################################################################\n",
        "    return likelihoods"
      ]
    },
    {
      "cell_type": "code",
      "execution_count": null,
      "id": "137a39ca",
      "metadata": {
        "id": "137a39ca"
      },
      "outputs": [],
      "source": [
        "print(\"Testing your likelihoods using only the weight sensor: \")\n",
        "print(verify(unit_test.test_likelihood_given_weight, likelihood_given_weight))"
      ]
    },
    {
      "cell_type": "markdown",
      "id": "8cf6d53c",
      "metadata": {
        "id": "8cf6d53c"
      },
      "source": [
        "**TODO 13**:"
      ]
    },
    {
      "cell_type": "code",
      "execution_count": null,
      "id": "29557404",
      "metadata": {
        "id": "29557404"
      },
      "outputs": [],
      "source": [
        "#export\n",
        "# TODO 13:\n",
        "def likelihood_given_detection(detection):\n",
        "    '''\n",
        "    Returns the likelihoods of all trash categories using only the detection\n",
        "    sensor (no priors)\n",
        "\n",
        "        Parameters:\n",
        "            detection (int): an int indicating the sampled detection, the\n",
        "                int-detection mapping is at the beginning of this notebook\n",
        "\n",
        "        Returns:\n",
        "            likelihoods (list): a list of likelihoods of each trash category\n",
        "    '''\n",
        "    likelihoods = None\n",
        "    ###############################################################################\n",
        "    #                             START OF YOUR CODE                              #\n",
        "    ###############################################################################\n",
        "\n",
        "    ###############################################################################\n",
        "    #                              END OF YOUR CODE                               #\n",
        "    ###############################################################################\n",
        "    return likelihoods"
      ]
    },
    {
      "cell_type": "code",
      "execution_count": null,
      "id": "a129df4f",
      "metadata": {
        "id": "a129df4f"
      },
      "outputs": [],
      "source": [
        "print(\"Testing your likelihoods using only the detection sensor: \")\n",
        "print(verify(unit_test.test_likelihood_given_detection, likelihood_given_detection))"
      ]
    },
    {
      "cell_type": "markdown",
      "id": "fadb4761",
      "metadata": {
        "id": "fadb4761"
      },
      "source": [
        "**TODO 14**:"
      ]
    },
    {
      "cell_type": "code",
      "execution_count": null,
      "id": "41289599",
      "metadata": {
        "id": "41289599"
      },
      "outputs": [],
      "source": [
        "#export\n",
        "# TODO 14:\n",
        "def bayes_given_weight(weight):\n",
        "    '''\n",
        "    Returns the posteriors of all trash categories by combining the weight\n",
        "    sensor and the priors\n",
        "\n",
        "        Parameters:\n",
        "            weight (double): a double indicating the weight of the trash\n",
        "\n",
        "        Returns:\n",
        "            posteriors (list): a list of posterior probabilities of each trash category\n",
        "    '''\n",
        "    posteriors = None\n",
        "    ###############################################################################\n",
        "    #                             START OF YOUR CODE                              #\n",
        "    ###############################################################################\n",
        "\n",
        "    ###############################################################################\n",
        "    #                              END OF YOUR CODE                               #\n",
        "    ###############################################################################\n",
        "    return posteriors"
      ]
    },
    {
      "cell_type": "code",
      "execution_count": null,
      "id": "a8cf017a",
      "metadata": {
        "id": "a8cf017a"
      },
      "outputs": [],
      "source": [
        "print(\"Testing your posteriors with the weight sensor and priors: \")\n",
        "print(verify(unit_test.test_bayes_given_weight, bayes_given_weight))"
      ]
    },
    {
      "cell_type": "markdown",
      "id": "0defff62",
      "metadata": {
        "id": "0defff62"
      },
      "source": [
        "**TODO 15**"
      ]
    },
    {
      "cell_type": "code",
      "execution_count": null,
      "id": "8e1ac3c1",
      "metadata": {
        "id": "8e1ac3c1"
      },
      "outputs": [],
      "source": [
        "#export\n",
        "# TODO 15:\n",
        "# Bayes with three sensors\n",
        "def bayes_given_three_sensors(conductivity, detection, weight):\n",
        "    '''\n",
        "    Returns the posteriors of all trash categories by combining all three\n",
        "    sensors and the priors\n",
        "\n",
        "        Parameters:\n",
        "            conductivity (int): an int indicating the conductivity, with\n",
        "                0 being nonconductive and 1 being conductive\n",
        "\n",
        "            detection (int): an int indicating the sampled detection, the\n",
        "                int-detection mapping is at the beginning of this notebook\n",
        "\n",
        "            weight (double): a double indicating the weight of the trash\n",
        "\n",
        "        Returns:\n",
        "            posteriors (list): a list of posterior probabilities of each trash category\n",
        "    '''\n",
        "    posteriors = None\n",
        "    ###############################################################################\n",
        "    #                             START OF YOUR CODE                              #\n",
        "    ###############################################################################\n",
        "\n",
        "    ###############################################################################\n",
        "    #                              END OF YOUR CODE                               #\n",
        "    ###############################################################################\n",
        "    return posteriors"
      ]
    },
    {
      "cell_type": "code",
      "execution_count": null,
      "id": "3d264f2f",
      "metadata": {
        "id": "3d264f2f"
      },
      "outputs": [],
      "source": [
        "print(\"Testing your posteriors giving all three sensors: \")\n",
        "print(verify(unit_test.test_bayes_given_three_sensors, bayes_given_three_sensors))"
      ]
    },
    {
      "cell_type": "markdown",
      "id": "6259456e",
      "metadata": {
        "id": "6259456e"
      },
      "source": [
        "## Decision Theory ([Book Section 2.5](http://www.roboticsbook.org/S25_sorter_decision_theory.html))\n",
        "- Functions to complete: **TODO 16**\n",
        "- Objective: Incorporating the cost table with the perception to reach a final sorting decision"
      ]
    },
    {
      "cell_type": "markdown",
      "id": "aa107f64",
      "metadata": {
        "id": "aa107f64"
      },
      "source": [
        "**TODO 16**:"
      ]
    },
    {
      "cell_type": "code",
      "execution_count": null,
      "id": "72f04e61",
      "metadata": {
        "id": "72f04e61"
      },
      "outputs": [],
      "source": [
        "#export\n",
        "# TODO 16:\n",
        "### DECISION ###\n",
        "def make_decision(posteriors):\n",
        "    '''\n",
        "    Returns the decision made by the robot given the likelihoods/posteriors you calculated\n",
        "\n",
        "        Parameters:\n",
        "            posteriors (list): a list of posteriors of each trash category\n",
        "\n",
        "        Returns:\n",
        "            action (int): an int indicating the action taken by the robot, the\n",
        "                int-action mapping is at the beginning of this notebook\n",
        "    '''\n",
        "    action = None\n",
        "    ###############################################################################\n",
        "    #                             START OF YOUR CODE                              #\n",
        "    ###############################################################################\n",
        "\n",
        "    ###############################################################################\n",
        "    #                              END OF YOUR CODE                               #\n",
        "    ###############################################################################\n",
        "    return action"
      ]
    },
    {
      "cell_type": "code",
      "execution_count": null,
      "id": "6b961b8e",
      "metadata": {
        "id": "6b961b8e"
      },
      "outputs": [],
      "source": [
        "print(\"Testing the decision made by your robot: \")\n",
        "print(verify(unit_test.test_make_decision, make_decision))"
      ]
    },
    {
      "cell_type": "code",
      "execution_count": null,
      "id": "120f2d67",
      "metadata": {
        "id": "120f2d67"
      },
      "outputs": [],
      "source": [
        "unit_test.get_cost_table(COST_TABLE)\n",
        "print(\"Testing your cost without sensors: \")\n",
        "print(verify(unit_test.test_score_likelihood_no_sensor, likelihood_no_sensors, make_decision))\n",
        "print(\"Testing your cost using the weight sensor:\")\n",
        "print(verify(unit_test.test_score_likelihood_given_weight, likelihood_given_weight, make_decision))\n",
        "print(\"Testing your cost using the detection sensor:\")\n",
        "print(verify(unit_test.test_score_likelihood_given_detection, likelihood_given_detection, make_decision))\n",
        "print(\"Testing your cost using with the weight sensor and priors:\")\n",
        "print(verify(unit_test.test_score_bayes_given_weight, bayes_given_weight, make_decision))\n",
        "print(\"Testing your cost using all three sensors: \")\n",
        "print(verify(unit_test.test_score_bayes_given_three_sensors, bayes_given_three_sensors, make_decision))"
      ]
    },
    {
      "cell_type": "markdown",
      "id": "ef7905f9",
      "metadata": {
        "id": "ef7905f9"
      },
      "source": [
        "## Learning ([Book Section 2.6](http://www.roboticsbook.org/S26_sorter_learning.html))\n",
        "A Gaussian distribution, also known as a normal distribution, is an inappropriate distribution to represent\n",
        "the weight of an item. This is because it has an infinite range and therefore sampling from it can produce\n",
        "a negative number, while an item cannot have a negative weight. A more commonly used distribution\n",
        "used to represent weight is the [log-normal distribution](https://en.wikipedia.org/wiki/Log-normal_distribution) which can only contain positive real values. The book explains how to fit a gaussian distribution to a set of data.\n",
        "- Functions to complete: **TODO 17**\n",
        "- Objective: Fit a Log-Normal Distribution to a set of data\n",
        "- Hint: There is an estimation of parameters section on the wikipedia article. This [article](https://towardsdatascience.com/log-normal-distribution-a-simple-explanation-7605864fb67c) should further help with computing mu and sigma."
      ]
    },
    {
      "cell_type": "markdown",
      "id": "7f8edafb",
      "metadata": {
        "id": "7f8edafb"
      },
      "source": [
        "**TODO 17**:"
      ]
    },
    {
      "cell_type": "code",
      "execution_count": null,
      "id": "3540f141",
      "metadata": {
        "id": "3540f141"
      },
      "outputs": [],
      "source": [
        "#export\n",
        "# TODO 17\n",
        "def fit_log_normal(data):\n",
        "    '''\n",
        "    Returns mu, sigma for a log-normal distribution\n",
        "\n",
        "        Parameters:\n",
        "            data (list of floats): A list of positive floats that represent the weight of an item\n",
        "\n",
        "        Returns:\n",
        "            mu (float), sigma (float): The mu and sigma for a log-normal distribution\n",
        "    '''\n",
        "    mu = None\n",
        "    sigma = None\n",
        "    ###############################################################################\n",
        "    #                             START OF YOUR CODE                              #\n",
        "    ###############################################################################\n",
        "\n",
        "    ###############################################################################\n",
        "    #                              END OF YOUR CODE                               #\n",
        "    ###############################################################################\n",
        "    return mu, sigma"
      ]
    },
    {
      "cell_type": "code",
      "execution_count": null,
      "id": "c5b83f46",
      "metadata": {
        "id": "c5b83f46"
      },
      "outputs": [],
      "source": [
        "print(\"Testing your log-normal distribution: \", verify(unit_test.test_fit_log_normal, fit_log_normal))"
      ]
    }
  ],
  "metadata": {
    "colab": {
      "provenance": []
    },
    "kernelspec": {
      "display_name": "Python 3 (ipykernel)",
      "language": "python",
      "name": "python3"
    },
    "language_info": {
      "codemirror_mode": {
        "name": "ipython",
        "version": 3
      },
      "file_extension": ".py",
      "mimetype": "text/x-python",
      "name": "python",
      "nbconvert_exporter": "python",
      "pygments_lexer": "ipython3",
      "version": "3.7.12"
    },
    "vscode": {
      "interpreter": {
        "hash": "31f2aee4e71d21fbe5cf8b01ff0e069b9275f58929596ceb00d14d90e3e16cd6"
      }
    }
  },
  "nbformat": 4,
  "nbformat_minor": 5
}
